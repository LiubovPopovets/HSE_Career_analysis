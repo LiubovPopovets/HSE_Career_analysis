{
 "cells": [
  {
   "cell_type": "markdown",
   "metadata": {},
   "source": [
    "#### Basic request\n",
    "\n",
    "    'https://api.vk.com/method/wall.get?owner_id=-GROUP_ID&access_token=TOKEN&v=5.60'"
   ]
  },
  {
   "cell_type": "markdown",
   "metadata": {},
   "source": [
    "#### Change date format from timestamp to datetime\n",
    "    \n",
    "    import datetime\n",
    "    \n",
    "    datetime.datetime.fromtimestamp(int( DATE )).strftime('%Y-%m-%d %H:%M:%S')"
   ]
  },
  {
   "cell_type": "code",
   "execution_count": null,
   "metadata": {},
   "outputs": [],
   "source": [
    "import vk\n",
    "import json\n",
    "import time\n",
    "import datetime\n",
    "from tqdm import tqdm, tqdm_notebook, trange\n",
    "import pandas as pd"
   ]
  },
  {
   "cell_type": "code",
   "execution_count": null,
   "metadata": {},
   "outputs": [],
   "source": [
    "#maximum number of requests = 5000\n",
    "\n",
    "def get_wall(api, pub_id, count, offset=None):\n",
    "    return api.wall.get(owner_id = pub_id, offset = offset, count = count)\n",
    "\n",
    "def data(l):\n",
    "    d = []\n",
    "    for e in l:\n",
    "        if e['text'] != '':\n",
    "            DATE = e['date']\n",
    "            D = datetime.datetime.fromtimestamp(int(DATE)).strftime('%Y-%m-%d %H:%M:%S')\n",
    "            T = xa0(e['text'])\n",
    "            b = {'date': D, 'text': T}\n",
    "            d.append(b)\n",
    "    return d\n",
    "\n",
    "def xa0(string):\n",
    "    \"\"\"\n",
    "    Hey, mister \\xa0, GTFOH! \n",
    "    \"\"\"\n",
    "    if '\\xa0' in string:\n",
    "        string = string.replace('\\xa0', ' ')\n",
    "    return string\n",
    "\n",
    "def main():\n",
    "    TOKKEN = str(input(\"Paste your tokken: \"))\n",
    "    GROUP_ID = int(input(\"Paste group id: \"))\n",
    "    NAME = input(\"Paste file name: \")\n",
    "    \n",
    "    session = vk.Session(access_token=TOKKEN)\n",
    "    api = vk.API(session, v='5.60')\n",
    "\n",
    "    r = get_wall(api, GROUP_ID, 100)\n",
    "\n",
    "    main_count = r['count']\n",
    "    num_of_cycles = main_count//100\n",
    "    remainder = main_count%100\n",
    "    offset = 100\n",
    "    \n",
    "    list_of_posts = data(r['items'])\n",
    "\n",
    "    with tqdm_notebook(total=num_of_cycles-1) as pbar:\n",
    "        for iteration in range(num_of_cycles-1):\n",
    "            current_r = get_wall(api, GROUP_ID, 100, offset=offset)\n",
    "            list_of_posts.extend(data(current_r['items']))\n",
    "            offset+=100\n",
    "            time.sleep(3)\n",
    "            pbar.update()\n",
    "\n",
    "    if remainder > 0:\n",
    "        print('Allez...')\n",
    "        remainder_r = get_wall(api, GROUP_ID, remainder, offset=offset)\n",
    "        list_of_posts.extend(data(remainder_r['items']))\n",
    "        print('oop!')\n",
    "\n",
    "    with open(NAME+'.json', 'w') as f:\n",
    "        json.dump(list_of_posts, f)\n",
    "\n",
    "    print('Done!')\n",
    "\n",
    "main()"
   ]
  }
 ],
 "metadata": {
  "kernelspec": {
   "display_name": "Python 3",
   "language": "python",
   "name": "python3"
  },
  "language_info": {
   "codemirror_mode": {
    "name": "ipython",
    "version": 3
   },
   "file_extension": ".py",
   "mimetype": "text/x-python",
   "name": "python",
   "nbconvert_exporter": "python",
   "pygments_lexer": "ipython3",
   "version": "3.6.4"
  }
 },
 "nbformat": 4,
 "nbformat_minor": 2
}
